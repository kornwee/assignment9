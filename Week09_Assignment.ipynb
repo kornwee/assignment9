{
 "cells": [
  {
   "cell_type": "markdown",
   "id": "cfb0a872-c943-4b86-a37b-5fbf0355cdba",
   "metadata": {},
   "source": [
    "# Week09 assignment"
   ]
  },
  {
   "cell_type": "markdown",
   "id": "08db1929-a1aa-453a-94da-bc9582c24abc",
   "metadata": {},
   "source": [
    "1 ) Please complete a Python program \"myseq\" and reproduce the following Output. You'll have to add more codes to get it to operate. The final version of your program should be push to your GitHub repository. You will need to provide GitHub link in the assignment answer. (10 points)"
   ]
  },
  {
   "cell_type": "markdown",
   "id": "5126f8c5-5dda-43f8-85c9-9b63aad37ae6",
   "metadata": {},
   "source": [
    "#### Hint:\n",
    "```python\n",
    "import re\n",
    "\n",
    "# SeqCal module\n",
    "def gcContent(seq):\n",
    "    # G+C/(A+T+G+C)\n",
    "    return (countBase(seq, 'G') + countBase(seq, 'C'))/len(seq)\n",
    "\n",
    "def atContent(seq):\n",
    "    # A+T/(A+T+G+C)\n",
    "    return (countBase(seq, 'A') + countBase(seq, 'T'))/len(seq)\n",
    "\n",
    "def countBase(seq, base):\n",
    "    return seq.count(base.upper())\n",
    "\n",
    "def countBasesDict(seq):\n",
    "    basesM = {}\n",
    "    for base in seq:\n",
    "        basesM[base] = basesM.get(base, 0)+1\n",
    "    return basesM\n",
    "\n",
    "# SeqPattern module\n",
    "def cpgSearch(seq):\n",
    "    cpgs = []\n",
    "    for m in re.finditer(r'CG', seq, re.I):\n",
    "        cpgs.append((m.group(), m.start(), m.end()))\n",
    "    return cpgs\n",
    "\n",
    "def enzTargetsScan(seq, enz):\n",
    "    resEnzyme = dict(EcoRI='GAATTC', BamHI='GGATCC', \n",
    "                 HindIII='AAGCTT',AccB2I='[AG]GCGC[CT]',\n",
    "                 AasI='GAC[ATCG][ATCG][ATCG][ATCG][ATCG][ATCG]GTC',\n",
    "                 AceI='GC[AT]GC')\n",
    "    \n",
    "    out = []\n",
    "    if enz in resEnzyme:\n",
    "        for m in re.finditer(resEnzyme.get(enz,),seq):\n",
    "            out.append((m.group(0),m.start(),m.end()))\n",
    "    return out\n",
    "\n",
    "def reverseSeq(seq):\n",
    "    return seq[::-1]\n",
    "\n",
    "def complementSeq(seq):\n",
    "    compl = {\"A\": \"T\", \"T\": \"A\",\n",
    "             \"G\": \"C\", \"C\": \"G\"}\n",
    "    complementary = \"\".join([ compl[base] for base in seq ])\n",
    "    return complementary\n",
    "\n",
    "def reverseComplementSeq(seq):\n",
    "    revComp = complementSeq(reverseSeq(seq))\n",
    "    return revComp\n",
    "\n",
    "def dna2rna(seq):\n",
    "    return seq.replace(\"T\",\"U\")\n",
    "\n",
    "def dna2protein(seq):\n",
    "    DNA_Codons = loadCodons()\n",
    "    protein = \"\"\n",
    "    for i in range(0,len(seq),3):\n",
    "        dna = seq[i:i+3]\n",
    "        protein += DNA_Codons.get(dna, \"\")\n",
    "    return protein\n",
    "\n",
    "def loadCodons():\n",
    "    DNA_Codons = {\n",
    "        # 'M' - START, '_' - STOP\n",
    "        \"GCT\": \"A\", \"GCC\": \"A\", \"GCA\": \"A\", \"GCG\": \"A\",\n",
    "        \"TGT\": \"C\", \"TGC\": \"C\",\n",
    "        \"GAT\": \"D\", \"GAC\": \"D\",\n",
    "        \"GAA\": \"E\", \"GAG\": \"E\",\n",
    "        \"TTT\": \"F\", \"TTC\": \"F\",\n",
    "        \"GGT\": \"G\", \"GGC\": \"G\", \"GGA\": \"G\", \"GGG\": \"G\",\n",
    "        \"CAT\": \"H\", \"CAC\": \"H\",\n",
    "        \"ATA\": \"I\", \"ATT\": \"I\", \"ATC\": \"I\",\n",
    "        \"AAA\": \"K\", \"AAG\": \"K\",\n",
    "        \"TTA\": \"L\", \"TTG\": \"L\", \"CTT\": \"L\", \"CTC\": \"L\", \"CTA\": \"L\", \"CTG\": \"L\",\n",
    "        \"ATG\": \"M\",\n",
    "        \"AAT\": \"N\", \"AAC\": \"N\",\n",
    "        \"CCT\": \"P\", \"CCC\": \"P\", \"CCA\": \"P\", \"CCG\": \"P\",\n",
    "        \"CAA\": \"Q\", \"CAG\": \"Q\",\n",
    "        \"CGT\": \"R\", \"CGC\": \"R\", \"CGA\": \"R\", \"CGG\": \"R\", \"AGA\": \"R\", \"AGG\": \"R\",\n",
    "        \"TCT\": \"S\", \"TCC\": \"S\", \"TCA\": \"S\", \"TCG\": \"S\", \"AGT\": \"S\", \"AGC\": \"S\",\n",
    "        \"ACT\": \"T\", \"ACC\": \"T\", \"ACA\": \"T\", \"ACG\": \"T\",\n",
    "        \"GTT\": \"V\", \"GTC\": \"V\", \"GTA\": \"V\", \"GTG\": \"V\",\n",
    "        \"TGG\": \"W\",\n",
    "        \"TAT\": \"Y\", \"TAC\": \"Y\",\n",
    "        \"TAA\": \"_\", \"TAG\": \"_\", \"TGA\": \"_\"\n",
    "    }\n",
    "    return DNA_Codons\n",
    "\n",
    "# Input\n",
    "seq = 'ATGGGccGTAGAATTCTTGCaaGCCCGT'\n",
    "seq = seq.upper()\n",
    "print(\"Transcription: \", dna2rna(seq))\n",
    "print(\"Transcription-revcomp: \", dna2rna(reverseComplementSeq(seq)))\n",
    "print(\"Translation: \", dna2protein(seq))\n",
    "print(\"Translation-revcomp: \", dna2protein(reverseComplementSeq(seq)))\n",
    "print(\"GC Content:\", gcContent(seq))\n",
    "print(\"Count Bases: \", countBasesDict(seq))\n",
    "print(\"Count Bases-revcomp: \", countBasesDict(reverseComplementSeq(seq)))\n",
    "print(\"Search EcoRI: \", enzTargetsScan(seq, 'EcoRI'))\n",
    "print(\"Search EcoRI-revcomp: \", enzTargetsScan(reverseComplementSeq(seq), 'EcoRI'))\n",
    "\n",
    "```"
   ]
  },
  {
   "cell_type": "markdown",
   "id": "1ead540d-734f-4153-9b4d-b11516757542",
   "metadata": {},
   "source": [
    "#### Hint:\n",
    "<img src=myseq_files.png style=\"height:400px\">\n"
   ]
  },
  {
   "cell_type": "markdown",
   "id": "cd68b951-d66e-4394-8d32-295583eb7162",
   "metadata": {},
   "source": [
    "## Output examples"
   ]
  },
  {
   "cell_type": "code",
   "execution_count": 11,
   "id": "6eadbd89-4cba-454d-9cf6-3202cc4b4f42",
   "metadata": {},
   "outputs": [
    {
     "name": "stdout",
     "output_type": "stream",
     "text": [
      "usage: myseq [-h]\n",
      "             {gcContent,countBases,transcription,translation,enzTargetsScan}\n",
      "             ...\n",
      "\n",
      "Work with sequence\n",
      "\n",
      "optional arguments:\n",
      "  -h, --help            show this help message and exit\n",
      "\n",
      "commands:\n",
      "  Please choose command below:\n",
      "\n",
      "  {gcContent,countBases,transcription,translation,enzTargetsScan}\n",
      "    gcContent           Calculate GC content\n",
      "    countBases          Count number of each base\n",
      "    transcription       Convert DNA->RNA\n",
      "    translation         Convert DNA->Protein\n",
      "    enzTargetsScan      Find restriction enzyme\n"
     ]
    }
   ],
   "source": [
    "%%bash\n",
    "./myseq -h"
   ]
  },
  {
   "cell_type": "code",
   "execution_count": 32,
   "id": "5a4f42da-5bfc-4214-804d-ac1f6472be7e",
   "metadata": {},
   "outputs": [
    {
     "name": "stdout",
     "output_type": "stream",
     "text": [
      "usage: myseq gcContent [-h] [-s SEQ]\n",
      "\n",
      "optional arguments:\n",
      "  -h, --help         show this help message and exit\n",
      "  -s SEQ, --seq SEQ  Provide sequence\n"
     ]
    }
   ],
   "source": [
    "%%bash\n",
    "./myseq gcContent -h"
   ]
  },
  {
   "cell_type": "code",
   "execution_count": 13,
   "id": "d258aeb4-5dbf-4c99-80f5-48098a1d0c9c",
   "metadata": {},
   "outputs": [
    {
     "name": "stdout",
     "output_type": "stream",
     "text": [
      "usage: myseq countBases [-h] [-s SEQ] [-r]\n",
      "\n",
      "optional arguments:\n",
      "  -h, --help         show this help message and exit\n",
      "  -s SEQ, --seq SEQ  Provide sequence\n",
      "  -r, --revcomp      Convet DNA to reverse-complementary\n"
     ]
    }
   ],
   "source": [
    "%%bash\n",
    "./myseq countBases -h"
   ]
  },
  {
   "cell_type": "code",
   "execution_count": 14,
   "id": "486470e2-c569-48c8-9389-4d80d34fe09d",
   "metadata": {},
   "outputs": [
    {
     "name": "stdout",
     "output_type": "stream",
     "text": [
      "usage: myseq enzTargetsScan [-h] [-s SEQ] [-e ENZ] [-r]\n",
      "\n",
      "optional arguments:\n",
      "  -h, --help         show this help message and exit\n",
      "  -s SEQ, --seq SEQ  Provide sequence\n",
      "  -e ENZ, --enz ENZ  Enzyme name\n",
      "  -r, --revcomp      Convet DNA to reverse-complementary\n"
     ]
    }
   ],
   "source": [
    "%%bash\n",
    "./myseq enzTargetsScan -h"
   ]
  },
  {
   "cell_type": "code",
   "execution_count": 15,
   "id": "3dae880e-548f-4ce0-86a3-d4b7489a9eac",
   "metadata": {},
   "outputs": [
    {
     "name": "stdout",
     "output_type": "stream",
     "text": [
      "usage: myseq transcription [-h] [-s SEQ] [-r]\n",
      "\n",
      "optional arguments:\n",
      "  -h, --help         show this help message and exit\n",
      "  -s SEQ, --seq SEQ  Provide sequence\n",
      "  -r, --revcomp      Convet DNA to reverse-complementary\n"
     ]
    }
   ],
   "source": [
    "%%bash\n",
    "./myseq transcription -h"
   ]
  },
  {
   "cell_type": "code",
   "execution_count": 42,
   "id": "5124af37-28fc-4898-9c41-3b978831085f",
   "metadata": {},
   "outputs": [
    {
     "name": "stdout",
     "output_type": "stream",
     "text": [
      "usage: myseq translation [-h] [-s SEQ] [-r]\n",
      "\n",
      "optional arguments:\n",
      "  -h, --help         show this help message and exit\n",
      "  -s SEQ, --seq SEQ  Provide sequence\n",
      "  -r, --revcomp      Convet DNA to reverse-complementary\n"
     ]
    }
   ],
   "source": [
    "%%bash\n",
    "./myseq translation -h"
   ]
  },
  {
   "cell_type": "code",
   "execution_count": 43,
   "id": "81e2f059-69e4-464a-8847-c97971966522",
   "metadata": {},
   "outputs": [
    {
     "name": "stdout",
     "output_type": "stream",
     "text": [
      "Input ATGGGccGTAGAATTCTTGCaaGCCCGT \n",
      "Transcription = AUGGGCCGUAGAAUUCUUGCAAGCCCGU\n"
     ]
    }
   ],
   "source": [
    "%%bash\n",
    "./myseq transcription --seq ATGGGccGTAGAATTCTTGCaaGCCCGT"
   ]
  },
  {
   "cell_type": "code",
   "execution_count": 44,
   "id": "cfb4c340-d208-494b-b5fd-99017e6a08a4",
   "metadata": {},
   "outputs": [
    {
     "name": "stdout",
     "output_type": "stream",
     "text": [
      "Input ATGGGccGTAGAATTCTTGCaaGCCCGT \n",
      "Transcription = ACGGGCUUGCAAGAAUUCUACGGCCCAU\n"
     ]
    }
   ],
   "source": [
    "%%bash\n",
    "./myseq transcription --seq ATGGGccGTAGAATTCTTGCaaGCCCGT --revcomp"
   ]
  },
  {
   "cell_type": "code",
   "execution_count": 45,
   "id": "52dc5b77-9ea3-47b1-bc43-7a858e5245f9",
   "metadata": {},
   "outputs": [
    {
     "name": "stdout",
     "output_type": "stream",
     "text": [
      "Input ATGGGccGTAGAATTCTTGCaaGCCCGT \n",
      "Translation = MGRRILASP\n"
     ]
    }
   ],
   "source": [
    "%%bash\n",
    "./myseq translation --seq ATGGGccGTAGAATTCTTGCaaGCCCGT"
   ]
  },
  {
   "cell_type": "code",
   "execution_count": 46,
   "id": "a5f7b21c-338a-4632-8896-3cf3a17fad25",
   "metadata": {},
   "outputs": [
    {
     "name": "stdout",
     "output_type": "stream",
     "text": [
      "Input ATGGGccGTAGAATTCTTGCaaGCCCGT \n",
      "Translation = TGLQEFYGP\n"
     ]
    }
   ],
   "source": [
    "%%bash\n",
    "./myseq translation --seq ATGGGccGTAGAATTCTTGCaaGCCCGT --revcomp"
   ]
  },
  {
   "cell_type": "code",
   "execution_count": 54,
   "id": "1c8ec0ca-e1c8-46f1-9b22-33f236c01d69",
   "metadata": {},
   "outputs": [
    {
     "name": "stdout",
     "output_type": "stream",
     "text": [
      "Input ATGGGccGTAGAATTCTTGCaaGCCCGT \n",
      "GC content = 0.5357142857142857\n"
     ]
    }
   ],
   "source": [
    "%%bash\n",
    "./myseq gcContent --seq ATGGGccGTAGAATTCTTGCaaGCCCGT"
   ]
  },
  {
   "cell_type": "code",
   "execution_count": 55,
   "id": "64e93ca2-4ba0-4266-bc8e-fe431f37822c",
   "metadata": {},
   "outputs": [
    {
     "name": "stdout",
     "output_type": "stream",
     "text": [
      "Input ATGGGccGTAGAATTCTTGCaaGCCCGT \n",
      "countBases = {'A': 6, 'T': 7, 'G': 8, 'C': 7}\n"
     ]
    }
   ],
   "source": [
    "%%bash\n",
    "./myseq countBases --seq ATGGGccGTAGAATTCTTGCaaGCCCGT"
   ]
  },
  {
   "cell_type": "code",
   "execution_count": 56,
   "id": "bf7a02a4-89f4-4e6e-8088-b7ff1a90a4ba",
   "metadata": {},
   "outputs": [
    {
     "name": "stdout",
     "output_type": "stream",
     "text": [
      "Input ATGGGccGTAGAATTCTTGCaaGCCCGT \n",
      "countBases = {'A': 7, 'C': 8, 'G': 7, 'T': 6}\n"
     ]
    }
   ],
   "source": [
    "%%bash\n",
    "./myseq countBases --seq ATGGGccGTAGAATTCTTGCaaGCCCGT -r"
   ]
  },
  {
   "cell_type": "code",
   "execution_count": 49,
   "id": "a44e5806-a118-42cd-978b-8e3e95f62078",
   "metadata": {},
   "outputs": [
    {
     "name": "stdout",
     "output_type": "stream",
     "text": [
      "Input ATGGGccGTAGAATTCTTGCaaGCCCGT \n",
      "EcoRI sites = [('GAATTC', 10, 16)]\n"
     ]
    }
   ],
   "source": [
    "%%bash\n",
    "./myseq enzTargetsScan --seq ATGGGccGTAGAATTCTTGCaaGCCCGT -e EcoRI"
   ]
  },
  {
   "cell_type": "code",
   "execution_count": 50,
   "id": "b4dfaecf-24e8-48c9-b018-638488e94b88",
   "metadata": {},
   "outputs": [
    {
     "name": "stdout",
     "output_type": "stream",
     "text": [
      "Input ATGGGccGTAGAATTCTTGCaaGCCCGT \n",
      "EcoRI sites = [('GAATTC', 12, 18)]\n"
     ]
    }
   ],
   "source": [
    "%%bash\n",
    "./myseq enzTargetsScan --seq ATGGGccGTAGAATTCTTGCaaGCCCGT -e EcoRI -r"
   ]
  },
  {
   "cell_type": "code",
   "execution_count": null,
   "id": "6a093428-00e0-496f-af2b-9ce15d07f5b0",
   "metadata": {},
   "outputs": [],
   "source": []
  }
 ],
 "metadata": {
  "kernelspec": {
   "display_name": "python3.6",
   "language": "python",
   "name": "python3.6"
  },
  "language_info": {
   "codemirror_mode": {
    "name": "ipython",
    "version": 3
   },
   "file_extension": ".py",
   "mimetype": "text/x-python",
   "name": "python",
   "nbconvert_exporter": "python",
   "pygments_lexer": "ipython3",
   "version": "3.6.13"
  }
 },
 "nbformat": 4,
 "nbformat_minor": 5
}
